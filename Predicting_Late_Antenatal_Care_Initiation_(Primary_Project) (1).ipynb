{
  "nbformat": 4,
  "nbformat_minor": 0,
  "metadata": {
    "colab": {
      "provenance": []
    },
    "kernelspec": {
      "name": "python3",
      "display_name": "Python 3"
    },
    "language_info": {
      "name": "python"
    }
  },
  "cells": [
    {
      "cell_type": "markdown",
      "source": [
        "#Importing Libraries and Loading Data"
      ],
      "metadata": {
        "id": "0TPvDR53rhdH"
      }
    },
    {
      "cell_type": "code",
      "execution_count": 4,
      "metadata": {
        "colab": {
          "base_uri": "https://localhost:8080/"
        },
        "id": "CQECz9_-rZ9z",
        "outputId": "9a1cb876-7a7a-41c5-b400-c55d226f8134"
      },
      "outputs": [
        {
          "output_type": "stream",
          "name": "stdout",
          "text": [
            "Data loaded successfully. First 5 rows:\n",
            "| psu   | new_psu   | country   | DHSCLUST   | sampwt   | newcaseid_1   | anc_timing   | residence   | education_1          | birth_order   | wealth   | household_size_g   | household_sex   | age_group_new_cat   |\n",
            "|:------|:----------|:----------|:-----------|:---------|:--------------|:-------------|:------------|:---------------------|:--------------|:---------|:-------------------|:----------------|:--------------------|\n",
            "| 1     | 1         | DRC       | 1          | 1.0981   | 1 7 4         | early        | urban       | secondary and higher | one           | rich     | 5 or more          | male            | 15-24               |\n",
            "| 1     | 1         | DRC       | 1          | 1.0981   | 1 19 2        | late         | urban       | secondary and higher | two           | rich     | 5 or more          | male            | 25-49               |\n",
            "| 1     | 1         | DRC       | 1          | 1.0981   | 1 45 5        | early        | urban       | secondary and higher | one           | rich     | 5 or more          | female          | 15-24               |\n",
            "| 1     | 1         | DRC       | 1          | 1.0981   | 1 45 13       | late         | urban       | secondary and higher | two           | rich     | 5 or more          | female          | 25-49               |\n",
            "| 1     | 1         | DRC       | 1          | 1.0981   | 1 77 1        | late         | urban       | primary and lower    | one           | rich     | 5 or more          | female          | 25-49               |\n"
          ]
        }
      ],
      "source": [
        "import pandas as pd\n",
        "import matplotlib.pyplot as plt\n",
        "import seaborn as sns\n",
        "\n",
        "# Load the dataset\n",
        "df = pd.read_csv('East_African_countries_data.csv')\n",
        "\n",
        "print(\"Data loaded successfully. First 5 rows:\")\n",
        "print(df.head().to_markdown(index=False, numalign=\"left\", stralign=\"left\"))"
      ]
    },
    {
      "cell_type": "code",
      "source": [
        "print(\"\\nInformation about the dataset (data types and non-null counts):\")\n",
        "df.info()\n",
        "\n",
        "print(\"\\nChecking for missing values (sum per column):\")\n",
        "print(df.isnull().sum().to_markdown(numalign=\"left\", stralign=\"left\"))"
      ],
      "metadata": {
        "colab": {
          "base_uri": "https://localhost:8080/"
        },
        "id": "8noUAH2mrqdM",
        "outputId": "d67b7aa4-7672-4671-e1d2-392760b25584"
      },
      "execution_count": 2,
      "outputs": [
        {
          "output_type": "stream",
          "name": "stdout",
          "text": [
            "\n",
            "Information about the dataset (data types and non-null counts):\n",
            "<class 'pandas.core.frame.DataFrame'>\n",
            "RangeIndex: 42719 entries, 0 to 42718\n",
            "Data columns (total 14 columns):\n",
            " #   Column             Non-Null Count  Dtype  \n",
            "---  ------             --------------  -----  \n",
            " 0   psu                42719 non-null  int64  \n",
            " 1   new_psu            42719 non-null  int64  \n",
            " 2   country            42719 non-null  object \n",
            " 3   DHSCLUST           42719 non-null  int64  \n",
            " 4   sampwt             42719 non-null  float64\n",
            " 5   newcaseid_1        42719 non-null  object \n",
            " 6   anc_timing         42719 non-null  object \n",
            " 7   residence          42719 non-null  object \n",
            " 8   education_1        42719 non-null  object \n",
            " 9   birth_order        42719 non-null  object \n",
            " 10  wealth             42719 non-null  object \n",
            " 11  household_size_g   42719 non-null  object \n",
            " 12  household_sex      42719 non-null  object \n",
            " 13  age_group_new_cat  42719 non-null  object \n",
            "dtypes: float64(1), int64(3), object(10)\n",
            "memory usage: 4.6+ MB\n",
            "\n",
            "Checking for missing values (sum per column):\n",
            "|                   | 0   |\n",
            "|:------------------|:----|\n",
            "| psu               | 0   |\n",
            "| new_psu           | 0   |\n",
            "| country           | 0   |\n",
            "| DHSCLUST          | 0   |\n",
            "| sampwt            | 0   |\n",
            "| newcaseid_1       | 0   |\n",
            "| anc_timing        | 0   |\n",
            "| residence         | 0   |\n",
            "| education_1       | 0   |\n",
            "| birth_order       | 0   |\n",
            "| wealth            | 0   |\n",
            "| household_size_g  | 0   |\n",
            "| household_sex     | 0   |\n",
            "| age_group_new_cat | 0   |\n"
          ]
        }
      ]
    },
    {
      "cell_type": "code",
      "source": [],
      "metadata": {
        "id": "bL6IZ8LTrzca"
      },
      "execution_count": null,
      "outputs": []
    }
  ]
}