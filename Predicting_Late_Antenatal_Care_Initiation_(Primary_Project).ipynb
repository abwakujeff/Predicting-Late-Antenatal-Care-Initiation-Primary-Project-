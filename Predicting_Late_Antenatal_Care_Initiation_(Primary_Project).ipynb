{
  "nbformat": 4,
  "nbformat_minor": 0,
  "metadata": {
    "colab": {
      "provenance": []
    },
    "kernelspec": {
      "name": "python3",
      "display_name": "Python 3"
    },
    "language_info": {
      "name": "python"
    }
  },
  "cells": [
    {
      "cell_type": "markdown",
      "source": [
        "#Importing Libraries and Loading Data"
      ],
      "metadata": {
        "id": "0TPvDR53rhdH"
      }
    },
    {
      "cell_type": "code",
      "execution_count": 1,
      "metadata": {
        "colab": {
          "base_uri": "https://localhost:8080/"
        },
        "id": "CQECz9_-rZ9z",
        "outputId": "b30e64ca-c836-4a82-80e1-67bf0f465bcc"
      },
      "outputs": [
        {
          "output_type": "stream",
          "name": "stdout",
          "text": [
            "Data loaded successfully. First 5 rows:\n",
            "| psu   | new_psu   | country   | DHSCLUST   | sampwt   | newcaseid_1   | anc_timing   | residence   | education_1          | birth_order   | wealth   | household_size_g   | household_sex   | age_group_new_cat   |\n",
            "|:------|:----------|:----------|:-----------|:---------|:--------------|:-------------|:------------|:---------------------|:--------------|:---------|:-------------------|:----------------|:--------------------|\n",
            "| 1     | 1         | DRC       | 1          | 1.0981   | 1 7 4         | early        | urban       | secondary and higher | one           | rich     | 5 or more          | male            | 15-24               |\n",
            "| 1     | 1         | DRC       | 1          | 1.0981   | 1 19 2        | late         | urban       | secondary and higher | two           | rich     | 5 or more          | male            | 25-49               |\n",
            "| 1     | 1         | DRC       | 1          | 1.0981   | 1 45 5        | early        | urban       | secondary and higher | one           | rich     | 5 or more          | female          | 15-24               |\n",
            "| 1     | 1         | DRC       | 1          | 1.0981   | 1 45 13       | late         | urban       | secondary and higher | two           | rich     | 5 or more          | female          | 25-49               |\n",
            "| 1     | 1         | DRC       | 1          | 1.0981   | 1 77 1        | late         | urban       | primary and lower    | one           | rich     | 5 or more          | female          | 25-49               |\n"
          ]
        }
      ],
      "source": [
        "import pandas as pd\n",
        "import matplotlib.pyplot as plt\n",
        "import seaborn as sns\n",
        "\n",
        "# Load the dataset\n",
        "df = pd.read_csv('East_African_countries_data.csv')\n",
        "\n",
        "print(\"Data loaded successfully. First 5 rows:\")\n",
        "print(df.head().to_markdown(index=False, numalign=\"left\", stralign=\"left\"))"
      ]
    },
    {
      "cell_type": "code",
      "source": [],
      "metadata": {
        "id": "8noUAH2mrqdM"
      },
      "execution_count": null,
      "outputs": []
    }
  ]
}