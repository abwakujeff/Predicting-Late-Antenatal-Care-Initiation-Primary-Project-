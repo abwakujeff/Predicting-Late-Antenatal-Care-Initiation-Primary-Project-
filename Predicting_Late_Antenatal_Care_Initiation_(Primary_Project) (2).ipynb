{
  "nbformat": 4,
  "nbformat_minor": 0,
  "metadata": {
    "colab": {
      "provenance": []
    },
    "kernelspec": {
      "name": "python3",
      "display_name": "Python 3"
    },
    "language_info": {
      "name": "python"
    }
  },
  "cells": [
    {
      "cell_type": "markdown",
      "source": [
        "#Importing Libraries and Loading Data"
      ],
      "metadata": {
        "id": "0TPvDR53rhdH"
      }
    },
    {
      "cell_type": "code",
      "execution_count": 4,
      "metadata": {
        "colab": {
          "base_uri": "https://localhost:8080/"
        },
        "id": "CQECz9_-rZ9z",
        "outputId": "9a1cb876-7a7a-41c5-b400-c55d226f8134"
      },
      "outputs": [
        {
          "output_type": "stream",
          "name": "stdout",
          "text": [
            "Data loaded successfully. First 5 rows:\n",
            "| psu   | new_psu   | country   | DHSCLUST   | sampwt   | newcaseid_1   | anc_timing   | residence   | education_1          | birth_order   | wealth   | household_size_g   | household_sex   | age_group_new_cat   |\n",
            "|:------|:----------|:----------|:-----------|:---------|:--------------|:-------------|:------------|:---------------------|:--------------|:---------|:-------------------|:----------------|:--------------------|\n",
            "| 1     | 1         | DRC       | 1          | 1.0981   | 1 7 4         | early        | urban       | secondary and higher | one           | rich     | 5 or more          | male            | 15-24               |\n",
            "| 1     | 1         | DRC       | 1          | 1.0981   | 1 19 2        | late         | urban       | secondary and higher | two           | rich     | 5 or more          | male            | 25-49               |\n",
            "| 1     | 1         | DRC       | 1          | 1.0981   | 1 45 5        | early        | urban       | secondary and higher | one           | rich     | 5 or more          | female          | 15-24               |\n",
            "| 1     | 1         | DRC       | 1          | 1.0981   | 1 45 13       | late         | urban       | secondary and higher | two           | rich     | 5 or more          | female          | 25-49               |\n",
            "| 1     | 1         | DRC       | 1          | 1.0981   | 1 77 1        | late         | urban       | primary and lower    | one           | rich     | 5 or more          | female          | 25-49               |\n"
          ]
        }
      ],
      "source": [
        "import pandas as pd\n",
        "import matplotlib.pyplot as plt\n",
        "import seaborn as sns\n",
        "\n",
        "# Load the dataset\n",
        "df = pd.read_csv('East_African_countries_data.csv')\n",
        "\n",
        "print(\"Data loaded successfully. First 5 rows:\")\n",
        "print(df.head().to_markdown(index=False, numalign=\"left\", stralign=\"left\"))"
      ]
    },
    {
      "cell_type": "code",
      "source": [
        "print(\"\\nInformation about the dataset (data types and non-null counts):\")\n",
        "df.info()\n",
        "\n",
        "print(\"\\nChecking for missing values (sum per column):\")\n",
        "print(df.isnull().sum().to_markdown(numalign=\"left\", stralign=\"left\"))"
      ],
      "metadata": {
        "colab": {
          "base_uri": "https://localhost:8080/"
        },
        "id": "8noUAH2mrqdM",
        "outputId": "d67b7aa4-7672-4671-e1d2-392760b25584"
      },
      "execution_count": 2,
      "outputs": [
        {
          "output_type": "stream",
          "name": "stdout",
          "text": [
            "\n",
            "Information about the dataset (data types and non-null counts):\n",
            "<class 'pandas.core.frame.DataFrame'>\n",
            "RangeIndex: 42719 entries, 0 to 42718\n",
            "Data columns (total 14 columns):\n",
            " #   Column             Non-Null Count  Dtype  \n",
            "---  ------             --------------  -----  \n",
            " 0   psu                42719 non-null  int64  \n",
            " 1   new_psu            42719 non-null  int64  \n",
            " 2   country            42719 non-null  object \n",
            " 3   DHSCLUST           42719 non-null  int64  \n",
            " 4   sampwt             42719 non-null  float64\n",
            " 5   newcaseid_1        42719 non-null  object \n",
            " 6   anc_timing         42719 non-null  object \n",
            " 7   residence          42719 non-null  object \n",
            " 8   education_1        42719 non-null  object \n",
            " 9   birth_order        42719 non-null  object \n",
            " 10  wealth             42719 non-null  object \n",
            " 11  household_size_g   42719 non-null  object \n",
            " 12  household_sex      42719 non-null  object \n",
            " 13  age_group_new_cat  42719 non-null  object \n",
            "dtypes: float64(1), int64(3), object(10)\n",
            "memory usage: 4.6+ MB\n",
            "\n",
            "Checking for missing values (sum per column):\n",
            "|                   | 0   |\n",
            "|:------------------|:----|\n",
            "| psu               | 0   |\n",
            "| new_psu           | 0   |\n",
            "| country           | 0   |\n",
            "| DHSCLUST          | 0   |\n",
            "| sampwt            | 0   |\n",
            "| newcaseid_1       | 0   |\n",
            "| anc_timing        | 0   |\n",
            "| residence         | 0   |\n",
            "| education_1       | 0   |\n",
            "| birth_order       | 0   |\n",
            "| wealth            | 0   |\n",
            "| household_size_g  | 0   |\n",
            "| household_sex     | 0   |\n",
            "| age_group_new_cat | 0   |\n"
          ]
        }
      ]
    },
    {
      "cell_type": "markdown",
      "source": [
        "#Descriptive Statistics for Numerical and Categorical Columns"
      ],
      "metadata": {
        "id": "XKo1Rkk5sKCC"
      }
    },
    {
      "cell_type": "code",
      "source": [
        "print(\"\\nDescriptive statistics for numerical columns:\")\n",
        "print(df.describe().to_markdown(numalign=\"left\", stralign=\"left\"))\n",
        "\n",
        "print(\"\\nValue counts for key categorical columns:\")\n",
        "categorical_cols = ['country', 'anc_timing', 'residence', 'education_1', 'birth_order', 'wealth', 'household_size_g', 'household_sex', 'age_group_new_cat']\n",
        "\n",
        "for col in categorical_cols:\n",
        "    print(f\"\\n--- Value counts for '{col}' ---\")\n",
        "    print(df[col].value_counts().to_markdown(numalign=\"left\", stralign=\"left\"))"
      ],
      "metadata": {
        "colab": {
          "base_uri": "https://localhost:8080/"
        },
        "id": "bL6IZ8LTrzca",
        "outputId": "67e465d1-02b4-445e-e5c2-d19a0ddb96c1"
      },
      "execution_count": 5,
      "outputs": [
        {
          "output_type": "stream",
          "name": "stdout",
          "text": [
            "\n",
            "Descriptive statistics for numerical columns:\n",
            "|       | psu     | new_psu   | DHSCLUST   | sampwt   |\n",
            "|:------|:--------|:----------|:-----------|:---------|\n",
            "| count | 42719   | 42719     | 42719      | 42719    |\n",
            "| mean  | 446.175 | 1777.82   | 446.175    | 1.00625  |\n",
            "| std   | 403.998 | 1197.2    | 403.998    | 0.876412 |\n",
            "| min   | 1       | 1         | 1          | 0.027451 |\n",
            "| 25%   | 163     | 627       | 163        | 0.428642 |\n",
            "| 50%   | 319     | 1723      | 319        | 0.818634 |\n",
            "| 75%   | 531     | 2879      | 531        | 1.28791  |\n",
            "| max   | 1612    | 3805      | 1612       | 13.5635  |\n",
            "\n",
            "Value counts for key categorical columns:\n",
            "\n",
            "--- Value counts for 'country' ---\n",
            "| country   | count   |\n",
            "|:----------|:--------|\n",
            "| KEN       | 17288   |\n",
            "| DRC       | 13500   |\n",
            "| TZA       | 11931   |\n",
            "\n",
            "--- Value counts for 'anc_timing' ---\n",
            "| anc_timing   | count   |\n",
            "|:-------------|:--------|\n",
            "| late         | 25497   |\n",
            "| early        | 17222   |\n",
            "\n",
            "--- Value counts for 'residence' ---\n",
            "| residence   | count   |\n",
            "|:------------|:--------|\n",
            "| rural       | 28741   |\n",
            "| urban       | 13978   |\n",
            "\n",
            "--- Value counts for 'education_1' ---\n",
            "| education_1          | count   |\n",
            "|:---------------------|:--------|\n",
            "| primary and lower    | 30156   |\n",
            "| secondary and higher | 12563   |\n",
            "\n",
            "--- Value counts for 'birth_order' ---\n",
            "| birth_order   | count   |\n",
            "|:--------------|:--------|\n",
            "| one           | 24719   |\n",
            "| two           | 14988   |\n",
            "| 3 or more     | 3012    |\n",
            "\n",
            "--- Value counts for 'wealth' ---\n",
            "| wealth   | count   |\n",
            "|:---------|:--------|\n",
            "| poor     | 18401   |\n",
            "| rich     | 16071   |\n",
            "| middle   | 8247    |\n",
            "\n",
            "--- Value counts for 'household_size_g' ---\n",
            "| household_size_g   | count   |\n",
            "|:-------------------|:--------|\n",
            "| 5 or more          | 29895   |\n",
            "| 4 or less          | 12824   |\n",
            "\n",
            "--- Value counts for 'household_sex' ---\n",
            "| household_sex   | count   |\n",
            "|:----------------|:--------|\n",
            "| male            | 32708   |\n",
            "| female          | 10011   |\n",
            "\n",
            "--- Value counts for 'age_group_new_cat' ---\n",
            "| age_group_new_cat   | count   |\n",
            "|:--------------------|:--------|\n",
            "| 25-49               | 29568   |\n",
            "| 15-24               | 13151   |\n"
          ]
        }
      ]
    },
    {
      "cell_type": "code",
      "source": [],
      "metadata": {
        "id": "y__45N7GsNB3"
      },
      "execution_count": null,
      "outputs": []
    }
  ]
}